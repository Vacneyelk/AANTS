{
 "cells": [
  {
   "cell_type": "code",
   "execution_count": 1,
   "metadata": {},
   "outputs": [
    {
     "name": "stdout",
     "output_type": "stream",
     "text": [
      "\n"
     ]
    }
   ],
   "source": [
    "import pymongo\n",
    "import config\n",
    "\n",
    "from bson.json_util import dumps\n",
    "\n",
    "db = pymongo.MongoClient(config.MONGODB_URI).aants_db\n",
    "\n",
    "db['notifications']\n",
    "print()"
   ]
  },
  {
   "cell_type": "code",
   "execution_count": 2,
   "metadata": {},
   "outputs": [
    {
     "data": {
      "text/plain": [
       "<pymongo.results.DeleteResult at 0x7fc5dac06fa0>"
      ]
     },
     "execution_count": 2,
     "metadata": {},
     "output_type": "execute_result"
    }
   ],
   "source": [
    "db['notifications'].delete_many({})"
   ]
  },
  {
   "cell_type": "code",
   "execution_count": 3,
   "metadata": {},
   "outputs": [
    {
     "data": {
      "text/plain": [
       "<pymongo.results.InsertOneResult at 0x7fc5d8595d20>"
      ]
     },
     "execution_count": 3,
     "metadata": {},
     "output_type": "execute_result"
    }
   ],
   "source": [
    "db['notifications'].insert_one({\n",
    "    'code' : 123456,\n",
    "    'email' : [],\n",
    "    'sms' : [],\n",
    "    'name' : 'class'\n",
    "})"
   ]
  },
  {
   "cell_type": "code",
   "execution_count": 4,
   "metadata": {},
   "outputs": [
    {
     "name": "stdout",
     "output_type": "stream",
     "text": [
      "[\n",
      "  {\n",
      "    \"code\": 123456,\n",
      "    \"email\": [],\n",
      "    \"sms\": [],\n",
      "    \"name\": \"class\"\n",
      "  }\n",
      "]\n"
     ]
    }
   ],
   "source": [
    "result = db['notifications'].find({'code' : 123456}, {'_id' : 0})\n",
    "print(dumps(result, indent=2))"
   ]
  },
  {
   "cell_type": "code",
   "execution_count": 5,
   "metadata": {},
   "outputs": [
    {
     "name": "stdout",
     "output_type": "stream",
     "text": [
      "[\n",
      "  {\n",
      "    \"code\": 123456,\n",
      "    \"email\": [\n",
      "      \"new-email@gmail.com\"\n",
      "    ],\n",
      "    \"sms\": [],\n",
      "    \"name\": \"class\"\n",
      "  }\n",
      "]\n"
     ]
    }
   ],
   "source": [
    "db['notifications'].update_one({'code' : 123456}, \n",
    "                               {'$push' : {'email' : 'new-email@gmail.com'}}, \n",
    "                               upsert=True\n",
    "                              )\n",
    "\n",
    "result = db['notifications'].find({'code' : 123456}, {'_id' : 0})\n",
    "\n",
    "print(dumps(result, indent=2))"
   ]
  },
  {
   "cell_type": "code",
   "execution_count": 6,
   "metadata": {},
   "outputs": [
    {
     "name": "stdout",
     "output_type": "stream",
     "text": [
      "[\n",
      "  {\n",
      "    \"code\": 123456,\n",
      "    \"email\": [\n",
      "      \"new-email@gmail.com\",\n",
      "      \"cooler-email@gmail.com\"\n",
      "    ],\n",
      "    \"sms\": [],\n",
      "    \"name\": \"class\"\n",
      "  }\n",
      "]\n"
     ]
    }
   ],
   "source": [
    "db['notifications'].update_one({'code' : 123456}, \n",
    "                               {'$push' : {'email' : 'cooler-email@gmail.com'}}, \n",
    "                               upsert=True\n",
    "                              )\n",
    "\n",
    "result = db['notifications'].find({'code' : 123456}, {'_id' : 0})\n",
    "\n",
    "print(dumps(result, indent=2))"
   ]
  },
  {
   "cell_type": "code",
   "execution_count": 7,
   "metadata": {},
   "outputs": [
    {
     "name": "stdout",
     "output_type": "stream",
     "text": [
      "[\n",
      "  {\n",
      "    \"code\": 123456,\n",
      "    \"email\": [\n",
      "      \"cooler-email@gmail.com\"\n",
      "    ],\n",
      "    \"sms\": [],\n",
      "    \"name\": \"class\"\n",
      "  }\n",
      "]\n"
     ]
    }
   ],
   "source": [
    "db['notifications'].update_one({'code' : 123456},\n",
    "                              {'$pull' : {'email' : {'$in' : ['new-email@gmail.com']}}},\n",
    "                              upsert=True\n",
    "                              )\n",
    "\n",
    "result = db['notifications'].find({'code' : 123456}, {'_id' : 0})\n",
    "\n",
    "print(dumps(result, indent=2))"
   ]
  },
  {
   "cell_type": "code",
   "execution_count": 8,
   "metadata": {},
   "outputs": [
    {
     "data": {
      "text/plain": [
       "<pymongo.results.InsertOneResult at 0x7fc5d85959b0>"
      ]
     },
     "execution_count": 8,
     "metadata": {},
     "output_type": "execute_result"
    }
   ],
   "source": [
    "db['notifications'].insert_one({\n",
    "    'code' : 777777,\n",
    "    'email' : ['yeet@gmail.com', 'dab@gmail.com'],\n",
    "    'sms' : ['555-555-5555', '789-151-2345'],\n",
    "    'name' : 'class'\n",
    "})"
   ]
  },
  {
   "cell_type": "code",
   "execution_count": 16,
   "metadata": {},
   "outputs": [],
   "source": [
    "result = db['notifications'].find({}, {'_id' : 0})\n",
    "# print(dumps(result, indent=2))"
   ]
  },
  {
   "cell_type": "code",
   "execution_count": 17,
   "metadata": {},
   "outputs": [
    {
     "name": "stdout",
     "output_type": "stream",
     "text": [
      "{123456: {'email': ['cooler-email@gmail.com'], 'name': 'class', 'sms': []},\n",
      " 777777: {'email': ['yeet@gmail.com', 'dab@gmail.com'],\n",
      "          'name': 'class',\n",
      "          'sms': ['555-555-5555', '789-151-2345']}}\n"
     ]
    }
   ],
   "source": [
    "notifications = {}\n",
    "for doc in result:\n",
    "    notifications[doc['code']] = {'email' : doc['email'], 'sms' : doc['sms'], 'name' : doc['name']}\n",
    "from pprint import pprint\n",
    "pprint(notifications)"
   ]
  },
  {
   "cell_type": "code",
   "execution_count": null,
   "metadata": {},
   "outputs": [],
   "source": []
  }
 ],
 "metadata": {
  "kernelspec": {
   "display_name": "Python 3",
   "language": "python",
   "name": "python3"
  },
  "language_info": {
   "codemirror_mode": {
    "name": "ipython",
    "version": 3
   },
   "file_extension": ".py",
   "mimetype": "text/x-python",
   "name": "python",
   "nbconvert_exporter": "python",
   "pygments_lexer": "ipython3",
   "version": "3.7.6"
  }
 },
 "nbformat": 4,
 "nbformat_minor": 4
}
